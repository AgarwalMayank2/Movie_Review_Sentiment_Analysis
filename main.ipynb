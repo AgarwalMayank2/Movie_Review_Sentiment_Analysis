{
 "cells": [
  {
   "cell_type": "code",
   "execution_count": 1,
   "metadata": {},
   "outputs": [],
   "source": [
    "import data_preprocessing\n",
    "import model\n",
    "from sklearn.model_selection import train_test_split\n",
    "import torch\n",
    "import torch.nn as nn\n",
    "import torch.nn.functional as F\n",
    "from torch.utils.data import DataLoader, TensorDataset\n",
    "import pandas as pd\n",
    "from torchsummary import summary\n",
    "import matplotlib.pyplot as plt\n",
    "from tqdm import tqdm"
   ]
  },
  {
   "cell_type": "code",
   "execution_count": 2,
   "metadata": {},
   "outputs": [],
   "source": [
    "data, vocab_size = data_preprocessing.data_preprocess(\"dataset/IMDB Dataset.csv\")"
   ]
  },
  {
   "cell_type": "code",
   "execution_count": 3,
   "metadata": {},
   "outputs": [
    {
     "data": {
      "text/html": [
       "<div>\n",
       "<style scoped>\n",
       "    .dataframe tbody tr th:only-of-type {\n",
       "        vertical-align: middle;\n",
       "    }\n",
       "\n",
       "    .dataframe tbody tr th {\n",
       "        vertical-align: top;\n",
       "    }\n",
       "\n",
       "    .dataframe thead th {\n",
       "        text-align: right;\n",
       "    }\n",
       "</style>\n",
       "<table border=\"1\" class=\"dataframe\">\n",
       "  <thead>\n",
       "    <tr style=\"text-align: right;\">\n",
       "      <th></th>\n",
       "      <th>0</th>\n",
       "      <th>1</th>\n",
       "      <th>2</th>\n",
       "      <th>3</th>\n",
       "      <th>4</th>\n",
       "      <th>5</th>\n",
       "      <th>6</th>\n",
       "      <th>7</th>\n",
       "      <th>8</th>\n",
       "      <th>9</th>\n",
       "      <th>...</th>\n",
       "      <th>391</th>\n",
       "      <th>392</th>\n",
       "      <th>393</th>\n",
       "      <th>394</th>\n",
       "      <th>395</th>\n",
       "      <th>396</th>\n",
       "      <th>397</th>\n",
       "      <th>398</th>\n",
       "      <th>399</th>\n",
       "      <th>sentiment</th>\n",
       "    </tr>\n",
       "  </thead>\n",
       "  <tbody>\n",
       "    <tr>\n",
       "      <th>0</th>\n",
       "      <td>0</td>\n",
       "      <td>0</td>\n",
       "      <td>0</td>\n",
       "      <td>0</td>\n",
       "      <td>0</td>\n",
       "      <td>0</td>\n",
       "      <td>0</td>\n",
       "      <td>0</td>\n",
       "      <td>0</td>\n",
       "      <td>0</td>\n",
       "      <td>...</td>\n",
       "      <td>22</td>\n",
       "      <td>68</td>\n",
       "      <td>75</td>\n",
       "      <td>7</td>\n",
       "      <td>1211</td>\n",
       "      <td>15</td>\n",
       "      <td>122</td>\n",
       "      <td>4018</td>\n",
       "      <td>501</td>\n",
       "      <td>1</td>\n",
       "    </tr>\n",
       "    <tr>\n",
       "      <th>1</th>\n",
       "      <td>0</td>\n",
       "      <td>0</td>\n",
       "      <td>0</td>\n",
       "      <td>0</td>\n",
       "      <td>0</td>\n",
       "      <td>0</td>\n",
       "      <td>0</td>\n",
       "      <td>0</td>\n",
       "      <td>0</td>\n",
       "      <td>0</td>\n",
       "      <td>...</td>\n",
       "      <td>81749</td>\n",
       "      <td>61652</td>\n",
       "      <td>29081</td>\n",
       "      <td>166</td>\n",
       "      <td>2259</td>\n",
       "      <td>23</td>\n",
       "      <td>1900</td>\n",
       "      <td>73</td>\n",
       "      <td>223</td>\n",
       "      <td>1</td>\n",
       "    </tr>\n",
       "    <tr>\n",
       "      <th>2</th>\n",
       "      <td>0</td>\n",
       "      <td>0</td>\n",
       "      <td>0</td>\n",
       "      <td>0</td>\n",
       "      <td>0</td>\n",
       "      <td>0</td>\n",
       "      <td>0</td>\n",
       "      <td>0</td>\n",
       "      <td>0</td>\n",
       "      <td>0</td>\n",
       "      <td>...</td>\n",
       "      <td>2638</td>\n",
       "      <td>3</td>\n",
       "      <td>79</td>\n",
       "      <td>213</td>\n",
       "      <td>5</td>\n",
       "      <td>138</td>\n",
       "      <td>64</td>\n",
       "      <td>15</td>\n",
       "      <td>333</td>\n",
       "      <td>1</td>\n",
       "    </tr>\n",
       "    <tr>\n",
       "      <th>3</th>\n",
       "      <td>0</td>\n",
       "      <td>0</td>\n",
       "      <td>0</td>\n",
       "      <td>0</td>\n",
       "      <td>0</td>\n",
       "      <td>0</td>\n",
       "      <td>0</td>\n",
       "      <td>0</td>\n",
       "      <td>0</td>\n",
       "      <td>0</td>\n",
       "      <td>...</td>\n",
       "      <td>14</td>\n",
       "      <td>16</td>\n",
       "      <td>1</td>\n",
       "      <td>631</td>\n",
       "      <td>15</td>\n",
       "      <td>3554</td>\n",
       "      <td>40</td>\n",
       "      <td>2723</td>\n",
       "      <td>93</td>\n",
       "      <td>0</td>\n",
       "    </tr>\n",
       "    <tr>\n",
       "      <th>4</th>\n",
       "      <td>0</td>\n",
       "      <td>0</td>\n",
       "      <td>0</td>\n",
       "      <td>0</td>\n",
       "      <td>0</td>\n",
       "      <td>0</td>\n",
       "      <td>0</td>\n",
       "      <td>0</td>\n",
       "      <td>0</td>\n",
       "      <td>0</td>\n",
       "      <td>...</td>\n",
       "      <td>49</td>\n",
       "      <td>2115</td>\n",
       "      <td>2</td>\n",
       "      <td>12046</td>\n",
       "      <td>17531</td>\n",
       "      <td>16</td>\n",
       "      <td>24</td>\n",
       "      <td>354</td>\n",
       "      <td>163</td>\n",
       "      <td>1</td>\n",
       "    </tr>\n",
       "  </tbody>\n",
       "</table>\n",
       "<p>5 rows × 401 columns</p>\n",
       "</div>"
      ],
      "text/plain": [
       "   0  1  2  3  4  5  6  7  8  9  ...    391    392    393    394    395   396  \\\n",
       "0  0  0  0  0  0  0  0  0  0  0  ...     22     68     75      7   1211    15   \n",
       "1  0  0  0  0  0  0  0  0  0  0  ...  81749  61652  29081    166   2259    23   \n",
       "2  0  0  0  0  0  0  0  0  0  0  ...   2638      3     79    213      5   138   \n",
       "3  0  0  0  0  0  0  0  0  0  0  ...     14     16      1    631     15  3554   \n",
       "4  0  0  0  0  0  0  0  0  0  0  ...     49   2115      2  12046  17531    16   \n",
       "\n",
       "    397   398  399  sentiment  \n",
       "0   122  4018  501          1  \n",
       "1  1900    73  223          1  \n",
       "2    64    15  333          1  \n",
       "3    40  2723   93          0  \n",
       "4    24   354  163          1  \n",
       "\n",
       "[5 rows x 401 columns]"
      ]
     },
     "execution_count": 3,
     "metadata": {},
     "output_type": "execute_result"
    }
   ],
   "source": [
    "data.head()"
   ]
  },
  {
   "cell_type": "code",
   "execution_count": 4,
   "metadata": {},
   "outputs": [],
   "source": [
    "y = data['sentiment']\n",
    "x = data.drop('sentiment', axis = 1)\n",
    "x_train, x_test, y_train, y_test = train_test_split(x, y, train_size=0.75, random_state=42)"
   ]
  },
  {
   "cell_type": "code",
   "execution_count": 5,
   "metadata": {},
   "outputs": [
    {
     "name": "stdout",
     "output_type": "stream",
     "text": [
      "(37500, 400)\n"
     ]
    }
   ],
   "source": [
    "print(x_train.shape)"
   ]
  },
  {
   "cell_type": "code",
   "execution_count": 6,
   "metadata": {},
   "outputs": [],
   "source": [
    "input_size = x.shape[1]\n",
    "hidden_size = 256\n",
    "num_layers = 2\n",
    "num_classes = 2\n",
    "learning_rate = 0.001\n",
    "batch_size = 64\n",
    "num_epochs = 10\n",
    "sequence_length = 1"
   ]
  },
  {
   "cell_type": "code",
   "execution_count": 7,
   "metadata": {},
   "outputs": [
    {
     "data": {
      "text/plain": [
       "device(type='cuda')"
      ]
     },
     "execution_count": 7,
     "metadata": {},
     "output_type": "execute_result"
    }
   ],
   "source": [
    "device = torch.device('cuda' if torch.cuda.is_available() else 'cpu')\n",
    "device"
   ]
  },
  {
   "cell_type": "code",
   "execution_count": 8,
   "metadata": {},
   "outputs": [],
   "source": [
    "train_data = TensorDataset(torch.from_numpy(x_train.values), torch.from_numpy(y_train.values))\n",
    "test_data = TensorDataset(torch.from_numpy(x_test.values), torch.from_numpy(y_test.values))"
   ]
  },
  {
   "cell_type": "code",
   "execution_count": 9,
   "metadata": {},
   "outputs": [],
   "source": [
    "train_loader = DataLoader(dataset=train_data, batch_size=batch_size, shuffle = True)\n",
    "test_loader = DataLoader(dataset=test_data, batch_size = batch_size, shuffle = True)"
   ]
  },
  {
   "cell_type": "code",
   "execution_count": 10,
   "metadata": {},
   "outputs": [],
   "source": [
    "model_instance = model.LSTM(input_size, hidden_size, num_layers, num_classes, sequence_length, vocab_size).to(device)"
   ]
  },
  {
   "cell_type": "code",
   "execution_count": 11,
   "metadata": {},
   "outputs": [],
   "source": [
    "loss = torch.nn.CrossEntropyLoss()\n",
    "optimizer = torch.optim.Adam(model_instance.parameters(), lr = learning_rate)"
   ]
  },
  {
   "cell_type": "code",
   "execution_count": 12,
   "metadata": {},
   "outputs": [
    {
     "name": "stdout",
     "output_type": "stream",
     "text": [
      "Training for epoch :- 1/10\n",
      "Train accuracy :- 85.78666666666666 || Test accuracy :- 83.65599999999999\n",
      "Training for epoch :- 2/10\n",
      "Train accuracy :- 91.34933333333333 || Test accuracy :- 86.944\n",
      "Training for epoch :- 3/10\n",
      "Train accuracy :- 92.46133333333333 || Test accuracy :- 86.04\n",
      "Training for epoch :- 4/10\n",
      "Train accuracy :- 94.46933333333334 || Test accuracy :- 86.976\n",
      "Training for epoch :- 5/10\n",
      "Train accuracy :- 94.19999999999999 || Test accuracy :- 86.48\n",
      "Training for epoch :- 6/10\n",
      "Train accuracy :- 95.88533333333334 || Test accuracy :- 86.944\n",
      "Training for epoch :- 7/10\n",
      "Train accuracy :- 96.824 || Test accuracy :- 87.96000000000001\n",
      "Training for epoch :- 8/10\n",
      "Train accuracy :- 96.96000000000001 || Test accuracy :- 88.16000000000001\n",
      "Training for epoch :- 9/10\n",
      "Train accuracy :- 97.176 || Test accuracy :- 88.352\n",
      "Training for epoch :- 10/10\n",
      "Train accuracy :- 97.24266666666666 || Test accuracy :- 87.952\n"
     ]
    }
   ],
   "source": [
    "train_acc = []\n",
    "test_acc = []\n",
    "\n",
    "for epoch in range(num_epochs):\n",
    "\n",
    "    print(f\"Training for epoch :- {epoch+1}/{num_epochs}\")\n",
    "    for batch_idx, (data, targets) in enumerate(train_loader):\n",
    "        \n",
    "        data = data.to(device)\n",
    "        targets = targets.to(device).long()\n",
    "\n",
    "        scores = model_instance(data)\n",
    "        loss_value = loss(scores, targets)\n",
    "\n",
    "        optimizer.zero_grad()\n",
    "        loss_value.backward()\n",
    "\n",
    "        optimizer.step()\n",
    "\n",
    "    num_correct = num_samples = 0\n",
    "\n",
    "    for batch_idx, (data, targets) in enumerate(train_loader):\n",
    "        \n",
    "        data = data.to(device)\n",
    "        targets = targets.to(device).long()\n",
    "\n",
    "        scores = model_instance(data)\n",
    "        _, predictions = scores.max(1)\n",
    "\n",
    "        num_correct += (predictions == targets).sum()\n",
    "        num_samples += predictions.size(0)\n",
    "\n",
    "    train_acc.append(float(num_correct)/float(num_samples)*100)\n",
    "    num_correct2 = num_samples2 = 0\n",
    "\n",
    "    for batch_idx, (data, targets) in enumerate(test_loader):\n",
    "        \n",
    "        data = data.to(device)\n",
    "        targets = targets.to(device).long()\n",
    "\n",
    "        scores = model_instance(data)\n",
    "        _, predictions = scores.max(1)\n",
    "\n",
    "        num_correct2 += (predictions == targets).sum()\n",
    "        num_samples2 += predictions.size(0)\n",
    "\n",
    "    print(f\"Train accuracy :- {float(num_correct)/float(num_samples)*100} || Test accuracy :- {float(num_correct2)/float(num_samples2)*100}\")\n",
    "    test_acc.append(float(num_correct2)/float(num_samples2)*100)"
   ]
  },
  {
   "cell_type": "code",
   "execution_count": 13,
   "metadata": {},
   "outputs": [
    {
     "data": {
      "image/png": "[encoded data removed]",
      "text/plain": [
       "<Figure size 640x480 with 1 Axes>"
      ]
     },
     "metadata": {},
     "output_type": "display_data"
    }
   ],
   "source": [
    "plt.plot(range(1, num_epochs+1), train_acc, label = \"Train accuracy\")\n",
    "plt.plot(range(1, num_epochs+1), test_acc, label = \"Test accuracy\")\n",
    "plt.xlabel(\"Epochs\")\n",
    "plt.ylabel(\"Accuracy\")\n",
    "plt.title(\"Accuracy vs Epochs\")\n",
    "plt.legend()\n",
    "plt.show()"
   ]
  }
 ],
 "metadata": {
  "kernelspec": {
   "display_name": "ai",
   "language": "python",
   "name": "python3"
  },
  "language_info": {
   "codemirror_mode": {
    "name": "ipython",
    "version": 3
   },
   "file_extension": ".py",
   "mimetype": "text/x-python",
   "name": "python",
   "nbconvert_exporter": "python",
   "pygments_lexer": "ipython3",
   "version": "3.12.8"
  }
 },
 "nbformat": 4,
 "nbformat_minor": 2
}
